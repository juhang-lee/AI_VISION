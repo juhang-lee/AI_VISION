{
  "cells": [
    {
      "cell_type": "markdown",
      "metadata": {
        "id": "view-in-github",
        "colab_type": "text"
      },
      "source": [
        "<a href=\"https://colab.research.google.com/github/juhang-lee/AI_VISION/blob/juhang-lee-patch-1/5_day/3.openvino/3.handwritten_ocr.ipynb\" target=\"_parent\"><img src=\"https://colab.research.google.com/assets/colab-badge.svg\" alt=\"Open In Colab\"/></a>"
      ]
    },
    {
      "cell_type": "markdown",
      "id": "0293f65e",
      "metadata": {
        "id": "0293f65e"
      },
      "source": [
        "# OpenVINO™를 사용한 필기체 중국어 및 일본어 OCR\n",
        "\n",
        "이 튜토리얼에서는 필기체 중국어(간체)와 일본어에 대해 광학 문자 인식(OCR)을 수행합니다. 라틴 알파벳을 사용한 OCR 튜토리얼은 [노트북 208](../208-optical-character-recognition/208-optical-character-recognition.ipynb)에서 확인할 수 있습니다. 이 모델은 한 번에 한 줄의 기호만 처리할 수 있습니다.\n",
        "\n",
        "이 노트북에 사용된 모델은 [`handwriter-japanese-recognition-0001`](https://docs.openvino.ai/2023.0/omz_models_model_handwriter_japanese_recognition_0001.html) 및 [`handwriter-simplified-chinese-0001`](https: //docs.openvino.ai/2023.0/omz_models_model_handwriter_simplified_chinese_recognition_0001.html). 모델 출력을 읽을 수 있는 텍스트로 디코딩하려면 [`kondate_nakayosi`](https://github.com/openvinotoolkit/open_model_zoo/blob/master/data/dataset_classes/kondate_nakayosi.txt) 및 [`scut_ept`](https://github. com/openvinotoolkit/open_model_zoo/blob/master/data/dataset_classes/scut_ept.txt) 문자 목록이 사용됩니다. 두 모델 모두 [Open Model Zoo](https://github.com/openvinotoolkit/open_model_zoo/)에서 사용할 수 있습니다.\n",
        "\n",
        "#### 내용의 테이블:\n",
        "- [수입](#Imports-Uparrow)\n",
        "- [설정](#설정-위쪽 화살표)\n",
        "- [언어 선택](#Select-a-Language-Uparrow)\n",
        "- [모델 다운로드](#Download-the-Model-Uparrow)\n",
        "- [모델 로드 및 실행](#Load-the-Model-and-Execute-Uparrow)\n",
        "- [추론 장치 선택](#Select-inference-device-Uparrow)\n",
        "- [입력 및 출력 레이어에 대한 정보 가져오기](#Fetch-Information-About-Input-and-Output-Layers-Uparrow)\n",
        "- [이미지 로드](#Load-an-Image-Uparrow)\n",
        "- [입력 이미지 시각화](#Visualize-Input-Image-Uparrow)\n",
        "- [Charlist 준비](#Prepare-Charlist-Uparrow)\n",
        "- [추론 실행](#Run-Inference-Uparrow)\n",
        "- [출력 데이터 처리](#Process-the-Output-Data-Uparrow)\n",
        "- [출력물 인쇄](#Print-the-Output-Uparrow)"
      ]
    },
    {
      "cell_type": "code",
      "execution_count": 1,
      "id": "b2642605",
      "metadata": {
        "id": "b2642605",
        "outputId": "1c2a2362-4e36-4a5e-a1c4-950b14f1e152",
        "colab": {
          "base_uri": "https://localhost:8080/"
        }
      },
      "outputs": [
        {
          "output_type": "stream",
          "name": "stdout",
          "text": [
            "\u001b[2K     \u001b[90m━━━━━━━━━━━━━━━━━━━━━━━━━━━━━━━━━━━━━━━━\u001b[0m \u001b[32m35.2/35.2 MB\u001b[0m \u001b[31m12.9 MB/s\u001b[0m eta \u001b[36m0:00:00\u001b[0m\n",
            "\u001b[?25h"
          ]
        }
      ],
      "source": [
        "# Install openvino-dev package\n",
        "%pip install -q \"openvino>=2023.1.0\"\n",
        "%pip install -q matplotlib numpy"
      ]
    },
    {
      "cell_type": "markdown",
      "id": "fda2e1e0",
      "metadata": {
        "id": "fda2e1e0"
      },
      "source": [
        "## Imports [$\\Uparrow$](#Table-of-content:)\n"
      ]
    },
    {
      "cell_type": "code",
      "execution_count": 2,
      "id": "e0a6a0d5",
      "metadata": {
        "jupyter": {
          "outputs_hidden": false
        },
        "pycharm": {
          "name": "#%%\n"
        },
        "id": "e0a6a0d5"
      },
      "outputs": [],
      "source": [
        "from collections import namedtuple\n",
        "from itertools import groupby\n",
        "\n",
        "import cv2\n",
        "import matplotlib.pyplot as plt\n",
        "import numpy as np\n",
        "import openvino as ov\n",
        "\n",
        "# Fetch `notebook_utils` module\n",
        "import urllib.request\n",
        "urllib.request.urlretrieve(\n",
        "    url='https://raw.githubusercontent.com/openvinotoolkit/openvino_notebooks/main/notebooks/utils/notebook_utils.py',\n",
        "    filename='notebook_utils.py'\n",
        ")\n",
        "from notebook_utils import download_file"
      ]
    },
    {
      "cell_type": "markdown",
      "id": "7a46517a",
      "metadata": {
        "id": "7a46517a"
      },
      "source": [
        "## 설정 [$\\Uparrow$](#목차:)\n",
        "\n",
        "이 노트북에 사용되는 모든 상수와 폴더를 설정하세요."
      ]
    },
    {
      "cell_type": "code",
      "execution_count": 3,
      "id": "b50b2bad",
      "metadata": {
        "id": "b50b2bad"
      },
      "outputs": [],
      "source": [
        "# Directories where data will be placed.\n",
        "base_models_dir = \"models\"\n",
        "data_folder = \"data\"\n",
        "charlist_folder = f\"{data_folder}/text\"\n",
        "\n",
        "# Precision used by the model.\n",
        "precision = \"FP16\""
      ]
    },
    {
      "cell_type": "markdown",
      "id": "f3c93fed",
      "metadata": {
        "id": "f3c93fed"
      },
      "source": [
        "파일을 그룹화하려면 컬렉션을 정의해야 합니다. 이 경우 `namedtuple`을 사용하세요."
      ]
    },
    {
      "cell_type": "code",
      "execution_count": 4,
      "id": "17402fcc",
      "metadata": {
        "id": "17402fcc"
      },
      "outputs": [],
      "source": [
        "Language = namedtuple(\n",
        "    typename=\"Language\", field_names=[\"model_name\", \"charlist_name\", \"demo_image_name\"]\n",
        ")\n",
        "chinese_files = Language(\n",
        "    model_name=\"handwritten-simplified-chinese-recognition-0001\",\n",
        "    charlist_name=\"chinese_charlist.txt\",\n",
        "    demo_image_name=\"handwritten_chinese_test.jpg\",\n",
        ")\n",
        "japanese_files = Language(\n",
        "    model_name=\"handwritten-japanese-recognition-0001\",\n",
        "    charlist_name=\"japanese_charlist.txt\",\n",
        "    demo_image_name=\"handwritten_japanese_test.png\",\n",
        ")"
      ]
    },
    {
      "cell_type": "markdown",
      "id": "8c61827c",
      "metadata": {
        "id": "8c61827c"
      },
      "source": [
        "## 언어 선택 [$\\Uparrow$](#목차:)\n",
        "\n",
        "선택 사항에 따라 아래 셀의 코드 줄을 변경해야 합니다.\n",
        "\n",
        "일본어 텍스트에 대해 OCR을 수행하려면 `언어 = \"일본어\"`를 설정하세요. 중국어의 경우 `언어 = \"중국어\"`를 설정하세요."
      ]
    },
    {
      "cell_type": "code",
      "execution_count": 5,
      "id": "1d3b1190",
      "metadata": {
        "id": "1d3b1190"
      },
      "outputs": [],
      "source": [
        "# Select the language by using either language=\"chinese\" or language=\"japanese\".\n",
        "language = \"chinese\"\n",
        "\n",
        "languages = {\"chinese\": chinese_files, \"japanese\": japanese_files}\n",
        "\n",
        "selected_language = languages.get(language)"
      ]
    },
    {
      "cell_type": "markdown",
      "id": "750355d4",
      "metadata": {
        "id": "750355d4"
      },
      "source": [
        "## 모델 다운로드 [$\\Uparrow$](#목차:)\n",
        "\n",
        "이미지와 문자 목록 외에도 모델 파일을 다운로드해야 합니다. 아래 섹션에는 중국 또는 일본 모델을 다운로드하기 위한 셀이 있습니다.\n",
        "\n",
        "노트북을 처음 실행하는 경우 모델이 다운로드됩니다. 몇 분 정도 걸릴 수 있습니다.\n",
        "\n",
        "utils 패키지의 `download_file` 기능을 사용하면 자동으로 디렉토리 구조가 생성되고 선택한 모델 파일이 다운로드됩니다."
      ]
    },
    {
      "cell_type": "code",
      "execution_count": 6,
      "id": "e8f266fa",
      "metadata": {
        "id": "e8f266fa",
        "outputId": "ea216d2d-a79f-4f3f-8d79-3234667dcf39",
        "colab": {
          "base_uri": "https://localhost:8080/",
          "height": 81,
          "referenced_widgets": [
            "c828a7dd3d654a1c8842728ef4a8b3d5",
            "88046f34710347769b2c62a1f4dec554",
            "0df1dd7987d54dbabe815cb8c0f348fa",
            "c9e02967874248719bad646c2178b90c",
            "7539f74304324c39ba9474e08a965734",
            "9f876405147647338cf8d9285b93926a",
            "993da14c9450406b8674215ae0abd8e9",
            "90bff5d6c28245ba8c776d4c4de7b0db",
            "1b953927ef7244e9a22eab283e7e3c57",
            "5a0ff59e0ec14585a0992246c10d460e",
            "ee508edf25da421cbd79ef8ff8fdfb64",
            "200ddaba3417491c9671c62113da1598",
            "0ecaf85d3eb94751a5d1be0bf4062fb2",
            "5de2923ee2e64921b290acd2dc4f3cd1",
            "fa99a51bbcf744b1a934115d085389fe",
            "17373e49e82b46ceb58555f2903ec878",
            "8e5c6799da094c5499767b86461ed2a9",
            "bf9d2c2e45cb4f76bc3ab35e1f0add5d",
            "8576485414274b719c34bc5302a652d2",
            "8283aab77245424e9a83af0e97c5fdb4",
            "537b15dfef4e4eeeb12b3d7562d70e62",
            "89f2bedc5bf84f3ca218489c13076b11"
          ]
        }
      },
      "outputs": [
        {
          "output_type": "display_data",
          "data": {
            "text/plain": [
              "models/handwritten-simplified-chinese-recognition-0001.xml:   0%|          | 0.00/108k [00:00<?, ?B/s]"
            ],
            "application/vnd.jupyter.widget-view+json": {
              "version_major": 2,
              "version_minor": 0,
              "model_id": "c828a7dd3d654a1c8842728ef4a8b3d5"
            }
          },
          "metadata": {}
        },
        {
          "output_type": "display_data",
          "data": {
            "text/plain": [
              "models/handwritten-simplified-chinese-recognition-0001.bin:   0%|          | 0.00/32.9M [00:00<?, ?B/s]"
            ],
            "application/vnd.jupyter.widget-view+json": {
              "version_major": 2,
              "version_minor": 0,
              "model_id": "200ddaba3417491c9671c62113da1598"
            }
          },
          "metadata": {}
        }
      ],
      "source": [
        "path_to_model = download_file(\n",
        "    url=f'https://storage.openvinotoolkit.org/repositories/open_model_zoo/2023.0/models_bin/1/{selected_language.model_name}/{precision}/{selected_language.model_name}.xml',\n",
        "    directory=base_models_dir\n",
        ")\n",
        "_ = download_file(\n",
        "    url=f'https://storage.openvinotoolkit.org/repositories/open_model_zoo/2023.0/models_bin/1/{selected_language.model_name}/{precision}/{selected_language.model_name}.bin',\n",
        "    directory=base_models_dir\n",
        ")"
      ]
    },
    {
      "cell_type": "markdown",
      "id": "6d026308",
      "metadata": {
        "id": "6d026308"
      },
      "source": [
        "## 모델 로드 및 실행 [$\\Uparrow$](#목차:)\n",
        "\n",
        "모든 파일이 다운로드되고 언어가 선택되면 네트워크를 읽고 컴파일하여 추론을 실행합니다. 모델 경로는 선택한 언어에 따라 정의됩니다."
      ]
    },
    {
      "cell_type": "code",
      "execution_count": 7,
      "id": "7114e467",
      "metadata": {
        "jupyter": {
          "outputs_hidden": false
        },
        "pycharm": {
          "name": "#%%\n"
        },
        "id": "7114e467"
      },
      "outputs": [],
      "source": [
        "core = ov.Core()\n",
        "model = core.read_model(model=path_to_model)"
      ]
    },
    {
      "cell_type": "markdown",
      "id": "9ecb4551",
      "metadata": {
        "id": "9ecb4551"
      },
      "source": [
        "## 추론 장치 선택 [$\\Uparrow$](#목차:)\n",
        "\n",
        "OpenVINO를 사용하여 추론을 실행하려면 드롭다운 목록에서 장치를 선택하세요."
      ]
    },
    {
      "cell_type": "code",
      "execution_count": 8,
      "id": "aaef9cca-de02-49b3-9544-d1c9cfce7792",
      "metadata": {
        "id": "aaef9cca-de02-49b3-9544-d1c9cfce7792",
        "outputId": "7b8468ec-4091-4d7e-92ad-4aebed5c9c6a",
        "colab": {
          "base_uri": "https://localhost:8080/",
          "height": 49,
          "referenced_widgets": [
            "2e6eef4544ed4582bf894ab803bf919e",
            "55920fe5d5714254abcdc9fde0201852",
            "0e771bfea84c4f1b92ddfa89903c5f88"
          ]
        }
      },
      "outputs": [
        {
          "output_type": "display_data",
          "data": {
            "text/plain": [
              "Dropdown(description='Device:', index=1, options=('CPU', 'AUTO'), value='AUTO')"
            ],
            "application/vnd.jupyter.widget-view+json": {
              "version_major": 2,
              "version_minor": 0,
              "model_id": "2e6eef4544ed4582bf894ab803bf919e"
            }
          },
          "metadata": {}
        }
      ],
      "source": [
        "import ipywidgets as widgets\n",
        "\n",
        "device = widgets.Dropdown(\n",
        "    options=core.available_devices + [\"AUTO\"],\n",
        "    value='AUTO',\n",
        "    description='Device:',\n",
        "    disabled=False,\n",
        ")\n",
        "\n",
        "device"
      ]
    },
    {
      "cell_type": "code",
      "execution_count": 10,
      "id": "024ad3a4",
      "metadata": {
        "id": "024ad3a4"
      },
      "outputs": [],
      "source": [
        "compiled_model = core.compile_model(model=model, device_name=device.value)"
      ]
    },
    {
      "cell_type": "markdown",
      "id": "3df5b652",
      "metadata": {
        "id": "3df5b652"
      },
      "source": [
        "## 입력 및 출력 레이어에 대한 정보 가져오기 [$\\Uparrow$](#목차:)\n",
        "\n",
        "이제 모델이 로드되었으므로 입력 및 출력 레이어(모양)에 대한 정보를 가져옵니다."
      ]
    },
    {
      "cell_type": "code",
      "execution_count": 11,
      "id": "7d31411a",
      "metadata": {
        "id": "7d31411a"
      },
      "outputs": [],
      "source": [
        "recognition_output_layer = compiled_model.output(0)\n",
        "recognition_input_layer = compiled_model.input(0)"
      ]
    },
    {
      "cell_type": "markdown",
      "id": "41307bc7",
      "metadata": {
        "id": "41307bc7"
      },
      "source": [
        "## 이미지 로드 [$\\Uparrow$](#목차:)\n",
        "\n",
        "다음으로 이미지를 로드합니다. 모델은 단일 채널 이미지를 입력으로 예상하므로 이미지는 회색조로 읽혀집니다.\n",
        "\n",
        "입력 이미지를 로드한 후 필요한 입력 레이어 높이와 현재 이미지 높이 사이의 배율 비율을 계산하는 데 사용할 정보를 가져옵니다. 아래 셀에서는 글자의 비율을 유지하고 입력 모양에 맞게 이미지 크기가 조정되고 채워집니다."
      ]
    },
    {
      "cell_type": "code",
      "execution_count": 12,
      "id": "afa1d51a",
      "metadata": {
        "id": "afa1d51a",
        "outputId": "6c59e7ee-252c-49ed-b98e-7732675f80e8",
        "colab": {
          "base_uri": "https://localhost:8080/",
          "height": 49,
          "referenced_widgets": [
            "4d126c7cc10f485289f2369a80b06394",
            "0729c9aff48b4c4f8c42a3f12b7daea4",
            "20ae1d7941cd4a31889330d9f4144bce",
            "09235fe34e2d469eb92d9403b43d9ca0",
            "32b306a3471c4bcba5f95653e3a0d82e",
            "33c7d17fee434947bef3e99986707bba",
            "7c00f4d3ccf14de9b8350fe65ddc6c56",
            "92eb573c5a1649a195e1635e986f893d",
            "3cb152fce2e84459a65c41b3b5053ae6",
            "cfbb599f90d04398a23c8d61c9998e2c",
            "f942f7222fb64b5087b332893363005d"
          ]
        }
      },
      "outputs": [
        {
          "output_type": "display_data",
          "data": {
            "text/plain": [
              "data/handwritten_chinese_test.jpg:   0%|          | 0.00/42.1k [00:00<?, ?B/s]"
            ],
            "application/vnd.jupyter.widget-view+json": {
              "version_major": 2,
              "version_minor": 0,
              "model_id": "4d126c7cc10f485289f2369a80b06394"
            }
          },
          "metadata": {}
        }
      ],
      "source": [
        "# Download the image from the openvino_notebooks storage based on the selected model.\n",
        "file_name = download_file(\n",
        "    \"https://storage.openvinotoolkit.org/repositories/openvino_notebooks/data/data/image/\" + selected_language.demo_image_name,\n",
        "    directory=data_folder\n",
        ")\n",
        "\n",
        "# Text detection models expect an image in grayscale format.\n",
        "# IMPORTANT! This model enables reading only one line at time.\n",
        "\n",
        "# Read the image.\n",
        "image = cv2.imread(filename=str(file_name), flags=cv2.IMREAD_GRAYSCALE)\n",
        "\n",
        "# Fetch the shape.\n",
        "image_height, _ = image.shape\n",
        "\n",
        "# B,C,H,W = batch size, number of channels, height, width.\n",
        "_, _, H, W = recognition_input_layer.shape\n",
        "\n",
        "# Calculate scale ratio between the input shape height and image height to resize the image.\n",
        "scale_ratio = H / image_height\n",
        "\n",
        "# Resize the image to expected input sizes.\n",
        "resized_image = cv2.resize(\n",
        "    image, None, fx=scale_ratio, fy=scale_ratio, interpolation=cv2.INTER_AREA\n",
        ")\n",
        "\n",
        "# Pad the image to match input size, without changing aspect ratio.\n",
        "resized_image = np.pad(\n",
        "    resized_image, ((0, 0), (0, W - resized_image.shape[1])), mode=\"edge\"\n",
        ")\n",
        "\n",
        "# Reshape to network input shape.\n",
        "input_image = resized_image[None, None, :, :]"
      ]
    },
    {
      "cell_type": "markdown",
      "id": "ba364bee",
      "metadata": {
        "id": "ba364bee"
      },
      "source": [
        "## 입력 이미지 시각화 [$\\Uparrow$](#목차:)\n",
        "\n",
        "전처리 후 이미지를 표시할 수 있습니다."
      ]
    },
    {
      "cell_type": "code",
      "execution_count": 13,
      "id": "f7a8e437",
      "metadata": {
        "id": "f7a8e437",
        "outputId": "54831220-2635-46fc-be4c-27e769be3d32",
        "colab": {
          "base_uri": "https://localhost:8080/",
          "height": 105
        }
      },
      "outputs": [
        {
          "output_type": "display_data",
          "data": {
            "text/plain": [
              "<Figure size 2000x100 with 1 Axes>"
            ],
            "image/png": "[encoded data removed]"
          },
          "metadata": {}
        }
      ],
      "source": [
        "plt.figure(figsize=(20, 1))\n",
        "plt.axis(\"off\")\n",
        "plt.imshow(resized_image, cmap=\"gray\", vmin=0, vmax=255);"
      ]
    },
    {
      "cell_type": "markdown",
      "id": "c6d4c642",
      "metadata": {
        "id": "c6d4c642"
      },
      "source": [
        "## Charlist 준비 [$\\Uparrow$](#목차:)\n",
        "\n",
        "모델이 로드되고 이미지가 준비되었습니다. 남은 유일한 요소는 다운로드되는 charlist입니다. 문자 목록을 사용하기 전에 문자 목록 시작 부분에 빈 기호를 추가해야 합니다. 이는 중국과 일본 모델 모두에서 예상됩니다."
      ]
    },
    {
      "cell_type": "code",
      "execution_count": 14,
      "id": "8e35eae1",
      "metadata": {
        "id": "8e35eae1",
        "outputId": "fc1ec5eb-7c5a-48d9-a796-f9f6aa633a8b",
        "colab": {
          "base_uri": "https://localhost:8080/",
          "height": 49,
          "referenced_widgets": [
            "3a553d4a2d424e479fd1ecd7b9de111c",
            "df2b8f615b0442c399f4909c12077fea",
            "1fa2cc11f94e4a7eb1b13063af972fec",
            "9dfc5532234541e78bd65ec6f9712060",
            "7afcd883af8049a29821ebeac64cdcd4",
            "7b44c6c6d4534453a25f37cf803a37e6",
            "7a57f8f0b7404a0099d846b3a45351ce",
            "bac19b5f19c84d8ab6c3f6d02608dff4",
            "8753b96e4b6a4f05804d33ee0a93be17",
            "14b18fb635a1441fae6f87d4672f1f6c",
            "1d0c46645a30481ba0623374ba26da64"
          ]
        }
      },
      "outputs": [
        {
          "output_type": "display_data",
          "data": {
            "text/plain": [
              "data/text/chinese_charlist.txt:   0%|          | 0.00/15.8k [00:00<?, ?B/s]"
            ],
            "application/vnd.jupyter.widget-view+json": {
              "version_major": 2,
              "version_minor": 0,
              "model_id": "3a553d4a2d424e479fd1ecd7b9de111c"
            }
          },
          "metadata": {}
        }
      ],
      "source": [
        "# Download the image from the openvino_notebooks storage based on the selected model.\n",
        "used_charlist_file = download_file(\n",
        "    \"https://storage.openvinotoolkit.org/repositories/openvino_notebooks/data/data/text/\" + selected_language.charlist_name,\n",
        "    directory=charlist_folder\n",
        ")"
      ]
    },
    {
      "cell_type": "code",
      "execution_count": 15,
      "id": "2cb18186",
      "metadata": {
        "id": "2cb18186"
      },
      "outputs": [],
      "source": [
        "# Get a dictionary to encode the output, based on model documentation.\n",
        "used_charlist = selected_language.charlist_name\n",
        "\n",
        "# With both models, there should be blank symbol added at index 0 of each charlist.\n",
        "blank_char = \"~\"\n",
        "\n",
        "with used_charlist_file.open(mode=\"r\", encoding=\"utf-8\") as charlist:\n",
        "    letters = blank_char + \"\".join(line.strip() for line in charlist)"
      ]
    },
    {
      "cell_type": "markdown",
      "id": "b6a4da65",
      "metadata": {
        "id": "b6a4da65"
      },
      "source": [
        "## 추론 실행 [$\\Uparrow$](#목차:)\n",
        "\n",
        "이제 추론을 실행해 보세요. `compiled_model()` 함수는 모델 입력과 동일한 순서로 입력 목록을 가져옵니다. 그런 다음 출력 텐서에서 출력을 가져옵니다."
      ]
    },
    {
      "cell_type": "code",
      "execution_count": 16,
      "id": "e44a9de4",
      "metadata": {
        "id": "e44a9de4"
      },
      "outputs": [],
      "source": [
        "# Run inference on the model\n",
        "predictions = compiled_model([input_image])[recognition_output_layer]"
      ]
    },
    {
      "cell_type": "markdown",
      "id": "03a40d22",
      "metadata": {
        "id": "03a40d22"
      },
      "source": [
        "## 출력 데이터 처리 [$\\Uparrow$](#목차:)\n",
        "\n",
        "모델의 출력은 `W x B x L` 형식입니다. 여기서:\n",
        "\n",
        "* W - 출력 시퀀스 길이\n",
        "* B - 배치 크기\n",
        "* L - Kondate 및 Nakayosi에서 지원되는 기호 전체에 대한 신뢰도 분포.\n",
        "\n",
        "사람이 더 쉽게 읽을 수 있는 형식을 얻으려면 확률이 가장 높은 기호를 선택하세요. [CTC 디코딩](https://towardsdatascience.com/beam-search-decoding-in-ctc-trained-neural-networks-5a889a3d85a7)의 한계로 인해 가장 높은 확률을 가질 것으로 예측되는 인덱스 목록을 보유하는 경우 ), 동시 기호를 제거한 다음 공백을 제거합니다.\n",
        "\n",
        "마지막으로 charlist의 해당 인덱스에서 기호를 가져옵니다."
      ]
    },
    {
      "cell_type": "code",
      "execution_count": 17,
      "id": "da1b8bc5",
      "metadata": {
        "id": "da1b8bc5"
      },
      "outputs": [],
      "source": [
        "# Remove a batch dimension.\n",
        "predictions = np.squeeze(predictions)\n",
        "\n",
        "# Run the `argmax` function to pick the symbols with the highest probability.\n",
        "predictions_indexes = np.argmax(predictions, axis=1)"
      ]
    },
    {
      "cell_type": "code",
      "execution_count": 18,
      "id": "f6730159",
      "metadata": {
        "id": "f6730159"
      },
      "outputs": [],
      "source": [
        "# Use the `groupby` function to remove concurrent letters, as required by CTC greedy decoding.\n",
        "output_text_indexes = list(groupby(predictions_indexes))\n",
        "\n",
        "# Remove grouper objects.\n",
        "output_text_indexes, _ = np.transpose(output_text_indexes, (1, 0))\n",
        "\n",
        "# Remove blank symbols.\n",
        "output_text_indexes = output_text_indexes[output_text_indexes != 0]\n",
        "\n",
        "# Assign letters to indexes from the output array.\n",
        "output_text = [letters[letter_index] for letter_index in output_text_indexes]"
      ]
    },
    {
      "cell_type": "markdown",
      "id": "ac88f622",
      "metadata": {
        "id": "ac88f622"
      },
      "source": [
        "## 출력 인쇄 [$\\Uparrow$](#목차:)\n",
        "\n",
        "이제 모델이 예측한 문자 목록이 있으므로 아래에 예측 텍스트가 인쇄된 이미지를 표시할 수 있습니다."
      ]
    },
    {
      "cell_type": "code",
      "execution_count": 19,
      "id": "6f8a90f3",
      "metadata": {
        "id": "6f8a90f3",
        "outputId": "fe88b3a7-c0c7-4798-d325-2220c308967d",
        "colab": {
          "base_uri": "https://localhost:8080/",
          "height": 124
        }
      },
      "outputs": [
        {
          "output_type": "stream",
          "name": "stdout",
          "text": [
            "人有悲欢离合，月有阴睛圆缺，此事古难全。\n"
          ]
        },
        {
          "output_type": "display_data",
          "data": {
            "text/plain": [
              "<Figure size 2000x100 with 1 Axes>"
            ],
            "image/png": "[encoded data removed]"
          },
          "metadata": {}
        }
      ],
      "source": [
        "plt.figure(figsize=(20, 1))\n",
        "plt.axis(\"off\")\n",
        "plt.imshow(resized_image, cmap=\"gray\", vmin=0, vmax=255)\n",
        "\n",
        "print(\"\".join(output_text))"
      ]
    },
    {
      "cell_type": "code",
      "source": [],
      "metadata": {
        "id": "WtIVPSMEhrSI"
      },
      "id": "WtIVPSMEhrSI",
      "execution_count": null,
      "outputs": []
    }
  ],
  "metadata": {
    "interpreter": {
      "hash": "ae617ccb002f72b3ab6d0069d721eac67ac2a969e83c083c4321cfcab0437cd1"
    },
    "kernelspec": {
      "display_name": "Python 3 (ipykernel)",
      "language": "python",
      "name": "python3"
    },
    "language_info": {
      "codemirror_mode": {
        "name": "ipython",
        "version": 3
      },
      "file_extension": ".py",
      "mimetype": "text/x-python",
      "name": "python",
      "nbconvert_exporter": "python",
      "pygments_lexer": "ipython3",
      "version": "3.10.12"
    },
    "colab": {
      "provenance": [],
      "include_colab_link": true
    },
    "widgets": {
      "application/vnd.jupyter.widget-state+json": {
        "c828a7dd3d654a1c8842728ef4a8b3d5": {
          "model_module": "@jupyter-widgets/controls",
          "model_name": "HBoxModel",
          "model_module_version": "1.5.0",
          "state": {
            "_dom_classes": [],
            "_model_module": "@jupyter-widgets/controls",
            "_model_module_version": "1.5.0",
            "_model_name": "HBoxModel",
            "_view_count": null,
            "_view_module": "@jupyter-widgets/controls",
            "_view_module_version": "1.5.0",
            "_view_name": "HBoxView",
            "box_style": "",
            "children": [
              "IPY_MODEL_88046f34710347769b2c62a1f4dec554",
              "IPY_MODEL_0df1dd7987d54dbabe815cb8c0f348fa",
              "IPY_MODEL_c9e02967874248719bad646c2178b90c"
            ],
            "layout": "IPY_MODEL_7539f74304324c39ba9474e08a965734"
          }
        },
        "88046f34710347769b2c62a1f4dec554": {
          "model_module": "@jupyter-widgets/controls",
          "model_name": "HTMLModel",
          "model_module_version": "1.5.0",
          "state": {
            "_dom_classes": [],
            "_model_module": "@jupyter-widgets/controls",
            "_model_module_version": "1.5.0",
            "_model_name": "HTMLModel",
            "_view_count": null,
            "_view_module": "@jupyter-widgets/controls",
            "_view_module_version": "1.5.0",
            "_view_name": "HTMLView",
            "description": "",
            "description_tooltip": null,
            "layout": "IPY_MODEL_9f876405147647338cf8d9285b93926a",
            "placeholder": "​",
            "style": "IPY_MODEL_993da14c9450406b8674215ae0abd8e9",
            "value": "models/handwritten-simplified-chinese-recognition-0001.xml: 100%"
          }
        },
        "0df1dd7987d54dbabe815cb8c0f348fa": {
          "model_module": "@jupyter-widgets/controls",
          "model_name": "FloatProgressModel",
          "model_module_version": "1.5.0",
          "state": {
            "_dom_classes": [],
            "_model_module": "@jupyter-widgets/controls",
            "_model_module_version": "1.5.0",
            "_model_name": "FloatProgressModel",
            "_view_count": null,
            "_view_module": "@jupyter-widgets/controls",
            "_view_module_version": "1.5.0",
            "_view_name": "ProgressView",
            "bar_style": "success",
            "description": "",
            "description_tooltip": null,
            "layout": "IPY_MODEL_90bff5d6c28245ba8c776d4c4de7b0db",
            "max": 110372,
            "min": 0,
            "orientation": "horizontal",
            "style": "IPY_MODEL_1b953927ef7244e9a22eab283e7e3c57",
            "value": 110372
          }
        },
        "c9e02967874248719bad646c2178b90c": {
          "model_module": "@jupyter-widgets/controls",
          "model_name": "HTMLModel",
          "model_module_version": "1.5.0",
          "state": {
            "_dom_classes": [],
            "_model_module": "@jupyter-widgets/controls",
            "_model_module_version": "1.5.0",
            "_model_name": "HTMLModel",
            "_view_count": null,
            "_view_module": "@jupyter-widgets/controls",
            "_view_module_version": "1.5.0",
            "_view_name": "HTMLView",
            "description": "",
            "description_tooltip": null,
            "layout": "IPY_MODEL_5a0ff59e0ec14585a0992246c10d460e",
            "placeholder": "​",
            "style": "IPY_MODEL_ee508edf25da421cbd79ef8ff8fdfb64",
            "value": " 108k/108k [00:00&lt;00:00, 163kB/s]"
          }
        },
        "7539f74304324c39ba9474e08a965734": {
          "model_module": "@jupyter-widgets/base",
          "model_name": "LayoutModel",
          "model_module_version": "1.2.0",
          "state": {
            "_model_module": "@jupyter-widgets/base",
            "_model_module_version": "1.2.0",
            "_model_name": "LayoutModel",
            "_view_count": null,
            "_view_module": "@jupyter-widgets/base",
            "_view_module_version": "1.2.0",
            "_view_name": "LayoutView",
            "align_content": null,
            "align_items": null,
            "align_self": null,
            "border": null,
            "bottom": null,
            "display": null,
            "flex": null,
            "flex_flow": null,
            "grid_area": null,
            "grid_auto_columns": null,
            "grid_auto_flow": null,
            "grid_auto_rows": null,
            "grid_column": null,
            "grid_gap": null,
            "grid_row": null,
            "grid_template_areas": null,
            "grid_template_columns": null,
            "grid_template_rows": null,
            "height": null,
            "justify_content": null,
            "justify_items": null,
            "left": null,
            "margin": null,
            "max_height": null,
            "max_width": null,
            "min_height": null,
            "min_width": null,
            "object_fit": null,
            "object_position": null,
            "order": null,
            "overflow": null,
            "overflow_x": null,
            "overflow_y": null,
            "padding": null,
            "right": null,
            "top": null,
            "visibility": null,
            "width": null
          }
        },
        "9f876405147647338cf8d9285b93926a": {
          "model_module": "@jupyter-widgets/base",
          "model_name": "LayoutModel",
          "model_module_version": "1.2.0",
          "state": {
            "_model_module": "@jupyter-widgets/base",
            "_model_module_version": "1.2.0",
            "_model_name": "LayoutModel",
            "_view_count": null,
            "_view_module": "@jupyter-widgets/base",
            "_view_module_version": "1.2.0",
            "_view_name": "LayoutView",
            "align_content": null,
            "align_items": null,
            "align_self": null,
            "border": null,
            "bottom": null,
            "display": null,
            "flex": null,
            "flex_flow": null,
            "grid_area": null,
            "grid_auto_columns": null,
            "grid_auto_flow": null,
            "grid_auto_rows": null,
            "grid_column": null,
            "grid_gap": null,
            "grid_row": null,
            "grid_template_areas": null,
            "grid_template_columns": null,
            "grid_template_rows": null,
            "height": null,
            "justify_content": null,
            "justify_items": null,
            "left": null,
            "margin": null,
            "max_height": null,
            "max_width": null,
            "min_height": null,
            "min_width": null,
            "object_fit": null,
            "object_position": null,
            "order": null,
            "overflow": null,
            "overflow_x": null,
            "overflow_y": null,
            "padding": null,
            "right": null,
            "top": null,
            "visibility": null,
            "width": null
          }
        },
        "993da14c9450406b8674215ae0abd8e9": {
          "model_module": "@jupyter-widgets/controls",
          "model_name": "DescriptionStyleModel",
          "model_module_version": "1.5.0",
          "state": {
            "_model_module": "@jupyter-widgets/controls",
            "_model_module_version": "1.5.0",
            "_model_name": "DescriptionStyleModel",
            "_view_count": null,
            "_view_module": "@jupyter-widgets/base",
            "_view_module_version": "1.2.0",
            "_view_name": "StyleView",
            "description_width": ""
          }
        },
        "90bff5d6c28245ba8c776d4c4de7b0db": {
          "model_module": "@jupyter-widgets/base",
          "model_name": "LayoutModel",
          "model_module_version": "1.2.0",
          "state": {
            "_model_module": "@jupyter-widgets/base",
            "_model_module_version": "1.2.0",
            "_model_name": "LayoutModel",
            "_view_count": null,
            "_view_module": "@jupyter-widgets/base",
            "_view_module_version": "1.2.0",
            "_view_name": "LayoutView",
            "align_content": null,
            "align_items": null,
            "align_self": null,
            "border": null,
            "bottom": null,
            "display": null,
            "flex": null,
            "flex_flow": null,
            "grid_area": null,
            "grid_auto_columns": null,
            "grid_auto_flow": null,
            "grid_auto_rows": null,
            "grid_column": null,
            "grid_gap": null,
            "grid_row": null,
            "grid_template_areas": null,
            "grid_template_columns": null,
            "grid_template_rows": null,
            "height": null,
            "justify_content": null,
            "justify_items": null,
            "left": null,
            "margin": null,
            "max_height": null,
            "max_width": null,
            "min_height": null,
            "min_width": null,
            "object_fit": null,
            "object_position": null,
            "order": null,
            "overflow": null,
            "overflow_x": null,
            "overflow_y": null,
            "padding": null,
            "right": null,
            "top": null,
            "visibility": null,
            "width": null
          }
        },
        "1b953927ef7244e9a22eab283e7e3c57": {
          "model_module": "@jupyter-widgets/controls",
          "model_name": "ProgressStyleModel",
          "model_module_version": "1.5.0",
          "state": {
            "_model_module": "@jupyter-widgets/controls",
            "_model_module_version": "1.5.0",
            "_model_name": "ProgressStyleModel",
            "_view_count": null,
            "_view_module": "@jupyter-widgets/base",
            "_view_module_version": "1.2.0",
            "_view_name": "StyleView",
            "bar_color": null,
            "description_width": ""
          }
        },
        "5a0ff59e0ec14585a0992246c10d460e": {
          "model_module": "@jupyter-widgets/base",
          "model_name": "LayoutModel",
          "model_module_version": "1.2.0",
          "state": {
            "_model_module": "@jupyter-widgets/base",
            "_model_module_version": "1.2.0",
            "_model_name": "LayoutModel",
            "_view_count": null,
            "_view_module": "@jupyter-widgets/base",
            "_view_module_version": "1.2.0",
            "_view_name": "LayoutView",
            "align_content": null,
            "align_items": null,
            "align_self": null,
            "border": null,
            "bottom": null,
            "display": null,
            "flex": null,
            "flex_flow": null,
            "grid_area": null,
            "grid_auto_columns": null,
            "grid_auto_flow": null,
            "grid_auto_rows": null,
            "grid_column": null,
            "grid_gap": null,
            "grid_row": null,
            "grid_template_areas": null,
            "grid_template_columns": null,
            "grid_template_rows": null,
            "height": null,
            "justify_content": null,
            "justify_items": null,
            "left": null,
            "margin": null,
            "max_height": null,
            "max_width": null,
            "min_height": null,
            "min_width": null,
            "object_fit": null,
            "object_position": null,
            "order": null,
            "overflow": null,
            "overflow_x": null,
            "overflow_y": null,
            "padding": null,
            "right": null,
            "top": null,
            "visibility": null,
            "width": null
          }
        },
        "ee508edf25da421cbd79ef8ff8fdfb64": {
          "model_module": "@jupyter-widgets/controls",
          "model_name": "DescriptionStyleModel",
          "model_module_version": "1.5.0",
          "state": {
            "_model_module": "@jupyter-widgets/controls",
            "_model_module_version": "1.5.0",
            "_model_name": "DescriptionStyleModel",
            "_view_count": null,
            "_view_module": "@jupyter-widgets/base",
            "_view_module_version": "1.2.0",
            "_view_name": "StyleView",
            "description_width": ""
          }
        },
        "200ddaba3417491c9671c62113da1598": {
          "model_module": "@jupyter-widgets/controls",
          "model_name": "HBoxModel",
          "model_module_version": "1.5.0",
          "state": {
            "_dom_classes": [],
            "_model_module": "@jupyter-widgets/controls",
            "_model_module_version": "1.5.0",
            "_model_name": "HBoxModel",
            "_view_count": null,
            "_view_module": "@jupyter-widgets/controls",
            "_view_module_version": "1.5.0",
            "_view_name": "HBoxView",
            "box_style": "",
            "children": [
              "IPY_MODEL_0ecaf85d3eb94751a5d1be0bf4062fb2",
              "IPY_MODEL_5de2923ee2e64921b290acd2dc4f3cd1",
              "IPY_MODEL_fa99a51bbcf744b1a934115d085389fe"
            ],
            "layout": "IPY_MODEL_17373e49e82b46ceb58555f2903ec878"
          }
        },
        "0ecaf85d3eb94751a5d1be0bf4062fb2": {
          "model_module": "@jupyter-widgets/controls",
          "model_name": "HTMLModel",
          "model_module_version": "1.5.0",
          "state": {
            "_dom_classes": [],
            "_model_module": "@jupyter-widgets/controls",
            "_model_module_version": "1.5.0",
            "_model_name": "HTMLModel",
            "_view_count": null,
            "_view_module": "@jupyter-widgets/controls",
            "_view_module_version": "1.5.0",
            "_view_name": "HTMLView",
            "description": "",
            "description_tooltip": null,
            "layout": "IPY_MODEL_8e5c6799da094c5499767b86461ed2a9",
            "placeholder": "​",
            "style": "IPY_MODEL_bf9d2c2e45cb4f76bc3ab35e1f0add5d",
            "value": "models/handwritten-simplified-chinese-recognition-0001.bin: 100%"
          }
        },
        "5de2923ee2e64921b290acd2dc4f3cd1": {
          "model_module": "@jupyter-widgets/controls",
          "model_name": "FloatProgressModel",
          "model_module_version": "1.5.0",
          "state": {
            "_dom_classes": [],
            "_model_module": "@jupyter-widgets/controls",
            "_model_module_version": "1.5.0",
            "_model_name": "FloatProgressModel",
            "_view_count": null,
            "_view_module": "@jupyter-widgets/controls",
            "_view_module_version": "1.5.0",
            "_view_name": "ProgressView",
            "bar_style": "success",
            "description": "",
            "description_tooltip": null,
            "layout": "IPY_MODEL_8576485414274b719c34bc5302a652d2",
            "max": 34535880,
            "min": 0,
            "orientation": "horizontal",
            "style": "IPY_MODEL_8283aab77245424e9a83af0e97c5fdb4",
            "value": 34535880
          }
        },
        "fa99a51bbcf744b1a934115d085389fe": {
          "model_module": "@jupyter-widgets/controls",
          "model_name": "HTMLModel",
          "model_module_version": "1.5.0",
          "state": {
            "_dom_classes": [],
            "_model_module": "@jupyter-widgets/controls",
            "_model_module_version": "1.5.0",
            "_model_name": "HTMLModel",
            "_view_count": null,
            "_view_module": "@jupyter-widgets/controls",
            "_view_module_version": "1.5.0",
            "_view_name": "HTMLView",
            "description": "",
            "description_tooltip": null,
            "layout": "IPY_MODEL_537b15dfef4e4eeeb12b3d7562d70e62",
            "placeholder": "​",
            "style": "IPY_MODEL_89f2bedc5bf84f3ca218489c13076b11",
            "value": " 32.9M/32.9M [00:04&lt;00:00, 13.4MB/s]"
          }
        },
        "17373e49e82b46ceb58555f2903ec878": {
          "model_module": "@jupyter-widgets/base",
          "model_name": "LayoutModel",
          "model_module_version": "1.2.0",
          "state": {
            "_model_module": "@jupyter-widgets/base",
            "_model_module_version": "1.2.0",
            "_model_name": "LayoutModel",
            "_view_count": null,
            "_view_module": "@jupyter-widgets/base",
            "_view_module_version": "1.2.0",
            "_view_name": "LayoutView",
            "align_content": null,
            "align_items": null,
            "align_self": null,
            "border": null,
            "bottom": null,
            "display": null,
            "flex": null,
            "flex_flow": null,
            "grid_area": null,
            "grid_auto_columns": null,
            "grid_auto_flow": null,
            "grid_auto_rows": null,
            "grid_column": null,
            "grid_gap": null,
            "grid_row": null,
            "grid_template_areas": null,
            "grid_template_columns": null,
            "grid_template_rows": null,
            "height": null,
            "justify_content": null,
            "justify_items": null,
            "left": null,
            "margin": null,
            "max_height": null,
            "max_width": null,
            "min_height": null,
            "min_width": null,
            "object_fit": null,
            "object_position": null,
            "order": null,
            "overflow": null,
            "overflow_x": null,
            "overflow_y": null,
            "padding": null,
            "right": null,
            "top": null,
            "visibility": null,
            "width": null
          }
        },
        "8e5c6799da094c5499767b86461ed2a9": {
          "model_module": "@jupyter-widgets/base",
          "model_name": "LayoutModel",
          "model_module_version": "1.2.0",
          "state": {
            "_model_module": "@jupyter-widgets/base",
            "_model_module_version": "1.2.0",
            "_model_name": "LayoutModel",
            "_view_count": null,
            "_view_module": "@jupyter-widgets/base",
            "_view_module_version": "1.2.0",
            "_view_name": "LayoutView",
            "align_content": null,
            "align_items": null,
            "align_self": null,
            "border": null,
            "bottom": null,
            "display": null,
            "flex": null,
            "flex_flow": null,
            "grid_area": null,
            "grid_auto_columns": null,
            "grid_auto_flow": null,
            "grid_auto_rows": null,
            "grid_column": null,
            "grid_gap": null,
            "grid_row": null,
            "grid_template_areas": null,
            "grid_template_columns": null,
            "grid_template_rows": null,
            "height": null,
            "justify_content": null,
            "justify_items": null,
            "left": null,
            "margin": null,
            "max_height": null,
            "max_width": null,
            "min_height": null,
            "min_width": null,
            "object_fit": null,
            "object_position": null,
            "order": null,
            "overflow": null,
            "overflow_x": null,
            "overflow_y": null,
            "padding": null,
            "right": null,
            "top": null,
            "visibility": null,
            "width": null
          }
        },
        "bf9d2c2e45cb4f76bc3ab35e1f0add5d": {
          "model_module": "@jupyter-widgets/controls",
          "model_name": "DescriptionStyleModel",
          "model_module_version": "1.5.0",
          "state": {
            "_model_module": "@jupyter-widgets/controls",
            "_model_module_version": "1.5.0",
            "_model_name": "DescriptionStyleModel",
            "_view_count": null,
            "_view_module": "@jupyter-widgets/base",
            "_view_module_version": "1.2.0",
            "_view_name": "StyleView",
            "description_width": ""
          }
        },
        "8576485414274b719c34bc5302a652d2": {
          "model_module": "@jupyter-widgets/base",
          "model_name": "LayoutModel",
          "model_module_version": "1.2.0",
          "state": {
            "_model_module": "@jupyter-widgets/base",
            "_model_module_version": "1.2.0",
            "_model_name": "LayoutModel",
            "_view_count": null,
            "_view_module": "@jupyter-widgets/base",
            "_view_module_version": "1.2.0",
            "_view_name": "LayoutView",
            "align_content": null,
            "align_items": null,
            "align_self": null,
            "border": null,
            "bottom": null,
            "display": null,
            "flex": null,
            "flex_flow": null,
            "grid_area": null,
            "grid_auto_columns": null,
            "grid_auto_flow": null,
            "grid_auto_rows": null,
            "grid_column": null,
            "grid_gap": null,
            "grid_row": null,
            "grid_template_areas": null,
            "grid_template_columns": null,
            "grid_template_rows": null,
            "height": null,
            "justify_content": null,
            "justify_items": null,
            "left": null,
            "margin": null,
            "max_height": null,
            "max_width": null,
            "min_height": null,
            "min_width": null,
            "object_fit": null,
            "object_position": null,
            "order": null,
            "overflow": null,
            "overflow_x": null,
            "overflow_y": null,
            "padding": null,
            "right": null,
            "top": null,
            "visibility": null,
            "width": null
          }
        },
        "8283aab77245424e9a83af0e97c5fdb4": {
          "model_module": "@jupyter-widgets/controls",
          "model_name": "ProgressStyleModel",
          "model_module_version": "1.5.0",
          "state": {
            "_model_module": "@jupyter-widgets/controls",
            "_model_module_version": "1.5.0",
            "_model_name": "ProgressStyleModel",
            "_view_count": null,
            "_view_module": "@jupyter-widgets/base",
            "_view_module_version": "1.2.0",
            "_view_name": "StyleView",
            "bar_color": null,
            "description_width": ""
          }
        },
        "537b15dfef4e4eeeb12b3d7562d70e62": {
          "model_module": "@jupyter-widgets/base",
          "model_name": "LayoutModel",
          "model_module_version": "1.2.0",
          "state": {
            "_model_module": "@jupyter-widgets/base",
            "_model_module_version": "1.2.0",
            "_model_name": "LayoutModel",
            "_view_count": null,
            "_view_module": "@jupyter-widgets/base",
            "_view_module_version": "1.2.0",
            "_view_name": "LayoutView",
            "align_content": null,
            "align_items": null,
            "align_self": null,
            "border": null,
            "bottom": null,
            "display": null,
            "flex": null,
            "flex_flow": null,
            "grid_area": null,
            "grid_auto_columns": null,
            "grid_auto_flow": null,
            "grid_auto_rows": null,
            "grid_column": null,
            "grid_gap": null,
            "grid_row": null,
            "grid_template_areas": null,
            "grid_template_columns": null,
            "grid_template_rows": null,
            "height": null,
            "justify_content": null,
            "justify_items": null,
            "left": null,
            "margin": null,
            "max_height": null,
            "max_width": null,
            "min_height": null,
            "min_width": null,
            "object_fit": null,
            "object_position": null,
            "order": null,
            "overflow": null,
            "overflow_x": null,
            "overflow_y": null,
            "padding": null,
            "right": null,
            "top": null,
            "visibility": null,
            "width": null
          }
        },
        "89f2bedc5bf84f3ca218489c13076b11": {
          "model_module": "@jupyter-widgets/controls",
          "model_name": "DescriptionStyleModel",
          "model_module_version": "1.5.0",
          "state": {
            "_model_module": "@jupyter-widgets/controls",
            "_model_module_version": "1.5.0",
            "_model_name": "DescriptionStyleModel",
            "_view_count": null,
            "_view_module": "@jupyter-widgets/base",
            "_view_module_version": "1.2.0",
            "_view_name": "StyleView",
            "description_width": ""
          }
        },
        "2e6eef4544ed4582bf894ab803bf919e": {
          "model_module": "@jupyter-widgets/controls",
          "model_name": "DropdownModel",
          "model_module_version": "1.5.0",
          "state": {
            "_dom_classes": [],
            "_model_module": "@jupyter-widgets/controls",
            "_model_module_version": "1.5.0",
            "_model_name": "DropdownModel",
            "_options_labels": [
              "CPU",
              "AUTO"
            ],
            "_view_count": null,
            "_view_module": "@jupyter-widgets/controls",
            "_view_module_version": "1.5.0",
            "_view_name": "DropdownView",
            "description": "Device:",
            "description_tooltip": null,
            "disabled": false,
            "index": 1,
            "layout": "IPY_MODEL_55920fe5d5714254abcdc9fde0201852",
            "style": "IPY_MODEL_0e771bfea84c4f1b92ddfa89903c5f88"
          }
        },
        "55920fe5d5714254abcdc9fde0201852": {
          "model_module": "@jupyter-widgets/base",
          "model_name": "LayoutModel",
          "model_module_version": "1.2.0",
          "state": {
            "_model_module": "@jupyter-widgets/base",
            "_model_module_version": "1.2.0",
            "_model_name": "LayoutModel",
            "_view_count": null,
            "_view_module": "@jupyter-widgets/base",
            "_view_module_version": "1.2.0",
            "_view_name": "LayoutView",
            "align_content": null,
            "align_items": null,
            "align_self": null,
            "border": null,
            "bottom": null,
            "display": null,
            "flex": null,
            "flex_flow": null,
            "grid_area": null,
            "grid_auto_columns": null,
            "grid_auto_flow": null,
            "grid_auto_rows": null,
            "grid_column": null,
            "grid_gap": null,
            "grid_row": null,
            "grid_template_areas": null,
            "grid_template_columns": null,
            "grid_template_rows": null,
            "height": null,
            "justify_content": null,
            "justify_items": null,
            "left": null,
            "margin": null,
            "max_height": null,
            "max_width": null,
            "min_height": null,
            "min_width": null,
            "object_fit": null,
            "object_position": null,
            "order": null,
            "overflow": null,
            "overflow_x": null,
            "overflow_y": null,
            "padding": null,
            "right": null,
            "top": null,
            "visibility": null,
            "width": null
          }
        },
        "0e771bfea84c4f1b92ddfa89903c5f88": {
          "model_module": "@jupyter-widgets/controls",
          "model_name": "DescriptionStyleModel",
          "model_module_version": "1.5.0",
          "state": {
            "_model_module": "@jupyter-widgets/controls",
            "_model_module_version": "1.5.0",
            "_model_name": "DescriptionStyleModel",
            "_view_count": null,
            "_view_module": "@jupyter-widgets/base",
            "_view_module_version": "1.2.0",
            "_view_name": "StyleView",
            "description_width": ""
          }
        },
        "4d126c7cc10f485289f2369a80b06394": {
          "model_module": "@jupyter-widgets/controls",
          "model_name": "HBoxModel",
          "model_module_version": "1.5.0",
          "state": {
            "_dom_classes": [],
            "_model_module": "@jupyter-widgets/controls",
            "_model_module_version": "1.5.0",
            "_model_name": "HBoxModel",
            "_view_count": null,
            "_view_module": "@jupyter-widgets/controls",
            "_view_module_version": "1.5.0",
            "_view_name": "HBoxView",
            "box_style": "",
            "children": [
              "IPY_MODEL_0729c9aff48b4c4f8c42a3f12b7daea4",
              "IPY_MODEL_20ae1d7941cd4a31889330d9f4144bce",
              "IPY_MODEL_09235fe34e2d469eb92d9403b43d9ca0"
            ],
            "layout": "IPY_MODEL_32b306a3471c4bcba5f95653e3a0d82e"
          }
        },
        "0729c9aff48b4c4f8c42a3f12b7daea4": {
          "model_module": "@jupyter-widgets/controls",
          "model_name": "HTMLModel",
          "model_module_version": "1.5.0",
          "state": {
            "_dom_classes": [],
            "_model_module": "@jupyter-widgets/controls",
            "_model_module_version": "1.5.0",
            "_model_name": "HTMLModel",
            "_view_count": null,
            "_view_module": "@jupyter-widgets/controls",
            "_view_module_version": "1.5.0",
            "_view_name": "HTMLView",
            "description": "",
            "description_tooltip": null,
            "layout": "IPY_MODEL_33c7d17fee434947bef3e99986707bba",
            "placeholder": "​",
            "style": "IPY_MODEL_7c00f4d3ccf14de9b8350fe65ddc6c56",
            "value": "data/handwritten_chinese_test.jpg: 100%"
          }
        },
        "20ae1d7941cd4a31889330d9f4144bce": {
          "model_module": "@jupyter-widgets/controls",
          "model_name": "FloatProgressModel",
          "model_module_version": "1.5.0",
          "state": {
            "_dom_classes": [],
            "_model_module": "@jupyter-widgets/controls",
            "_model_module_version": "1.5.0",
            "_model_name": "FloatProgressModel",
            "_view_count": null,
            "_view_module": "@jupyter-widgets/controls",
            "_view_module_version": "1.5.0",
            "_view_name": "ProgressView",
            "bar_style": "success",
            "description": "",
            "description_tooltip": null,
            "layout": "IPY_MODEL_92eb573c5a1649a195e1635e986f893d",
            "max": 43133,
            "min": 0,
            "orientation": "horizontal",
            "style": "IPY_MODEL_3cb152fce2e84459a65c41b3b5053ae6",
            "value": 43133
          }
        },
        "09235fe34e2d469eb92d9403b43d9ca0": {
          "model_module": "@jupyter-widgets/controls",
          "model_name": "HTMLModel",
          "model_module_version": "1.5.0",
          "state": {
            "_dom_classes": [],
            "_model_module": "@jupyter-widgets/controls",
            "_model_module_version": "1.5.0",
            "_model_name": "HTMLModel",
            "_view_count": null,
            "_view_module": "@jupyter-widgets/controls",
            "_view_module_version": "1.5.0",
            "_view_name": "HTMLView",
            "description": "",
            "description_tooltip": null,
            "layout": "IPY_MODEL_cfbb599f90d04398a23c8d61c9998e2c",
            "placeholder": "​",
            "style": "IPY_MODEL_f942f7222fb64b5087b332893363005d",
            "value": " 42.1k/42.1k [00:00&lt;00:00, 99.0kB/s]"
          }
        },
        "32b306a3471c4bcba5f95653e3a0d82e": {
          "model_module": "@jupyter-widgets/base",
          "model_name": "LayoutModel",
          "model_module_version": "1.2.0",
          "state": {
            "_model_module": "@jupyter-widgets/base",
            "_model_module_version": "1.2.0",
            "_model_name": "LayoutModel",
            "_view_count": null,
            "_view_module": "@jupyter-widgets/base",
            "_view_module_version": "1.2.0",
            "_view_name": "LayoutView",
            "align_content": null,
            "align_items": null,
            "align_self": null,
            "border": null,
            "bottom": null,
            "display": null,
            "flex": null,
            "flex_flow": null,
            "grid_area": null,
            "grid_auto_columns": null,
            "grid_auto_flow": null,
            "grid_auto_rows": null,
            "grid_column": null,
            "grid_gap": null,
            "grid_row": null,
            "grid_template_areas": null,
            "grid_template_columns": null,
            "grid_template_rows": null,
            "height": null,
            "justify_content": null,
            "justify_items": null,
            "left": null,
            "margin": null,
            "max_height": null,
            "max_width": null,
            "min_height": null,
            "min_width": null,
            "object_fit": null,
            "object_position": null,
            "order": null,
            "overflow": null,
            "overflow_x": null,
            "overflow_y": null,
            "padding": null,
            "right": null,
            "top": null,
            "visibility": null,
            "width": null
          }
        },
        "33c7d17fee434947bef3e99986707bba": {
          "model_module": "@jupyter-widgets/base",
          "model_name": "LayoutModel",
          "model_module_version": "1.2.0",
          "state": {
            "_model_module": "@jupyter-widgets/base",
            "_model_module_version": "1.2.0",
            "_model_name": "LayoutModel",
            "_view_count": null,
            "_view_module": "@jupyter-widgets/base",
            "_view_module_version": "1.2.0",
            "_view_name": "LayoutView",
            "align_content": null,
            "align_items": null,
            "align_self": null,
            "border": null,
            "bottom": null,
            "display": null,
            "flex": null,
            "flex_flow": null,
            "grid_area": null,
            "grid_auto_columns": null,
            "grid_auto_flow": null,
            "grid_auto_rows": null,
            "grid_column": null,
            "grid_gap": null,
            "grid_row": null,
            "grid_template_areas": null,
            "grid_template_columns": null,
            "grid_template_rows": null,
            "height": null,
            "justify_content": null,
            "justify_items": null,
            "left": null,
            "margin": null,
            "max_height": null,
            "max_width": null,
            "min_height": null,
            "min_width": null,
            "object_fit": null,
            "object_position": null,
            "order": null,
            "overflow": null,
            "overflow_x": null,
            "overflow_y": null,
            "padding": null,
            "right": null,
            "top": null,
            "visibility": null,
            "width": null
          }
        },
        "7c00f4d3ccf14de9b8350fe65ddc6c56": {
          "model_module": "@jupyter-widgets/controls",
          "model_name": "DescriptionStyleModel",
          "model_module_version": "1.5.0",
          "state": {
            "_model_module": "@jupyter-widgets/controls",
            "_model_module_version": "1.5.0",
            "_model_name": "DescriptionStyleModel",
            "_view_count": null,
            "_view_module": "@jupyter-widgets/base",
            "_view_module_version": "1.2.0",
            "_view_name": "StyleView",
            "description_width": ""
          }
        },
        "92eb573c5a1649a195e1635e986f893d": {
          "model_module": "@jupyter-widgets/base",
          "model_name": "LayoutModel",
          "model_module_version": "1.2.0",
          "state": {
            "_model_module": "@jupyter-widgets/base",
            "_model_module_version": "1.2.0",
            "_model_name": "LayoutModel",
            "_view_count": null,
            "_view_module": "@jupyter-widgets/base",
            "_view_module_version": "1.2.0",
            "_view_name": "LayoutView",
            "align_content": null,
            "align_items": null,
            "align_self": null,
            "border": null,
            "bottom": null,
            "display": null,
            "flex": null,
            "flex_flow": null,
            "grid_area": null,
            "grid_auto_columns": null,
            "grid_auto_flow": null,
            "grid_auto_rows": null,
            "grid_column": null,
            "grid_gap": null,
            "grid_row": null,
            "grid_template_areas": null,
            "grid_template_columns": null,
            "grid_template_rows": null,
            "height": null,
            "justify_content": null,
            "justify_items": null,
            "left": null,
            "margin": null,
            "max_height": null,
            "max_width": null,
            "min_height": null,
            "min_width": null,
            "object_fit": null,
            "object_position": null,
            "order": null,
            "overflow": null,
            "overflow_x": null,
            "overflow_y": null,
            "padding": null,
            "right": null,
            "top": null,
            "visibility": null,
            "width": null
          }
        },
        "3cb152fce2e84459a65c41b3b5053ae6": {
          "model_module": "@jupyter-widgets/controls",
          "model_name": "ProgressStyleModel",
          "model_module_version": "1.5.0",
          "state": {
            "_model_module": "@jupyter-widgets/controls",
            "_model_module_version": "1.5.0",
            "_model_name": "ProgressStyleModel",
            "_view_count": null,
            "_view_module": "@jupyter-widgets/base",
            "_view_module_version": "1.2.0",
            "_view_name": "StyleView",
            "bar_color": null,
            "description_width": ""
          }
        },
        "cfbb599f90d04398a23c8d61c9998e2c": {
          "model_module": "@jupyter-widgets/base",
          "model_name": "LayoutModel",
          "model_module_version": "1.2.0",
          "state": {
            "_model_module": "@jupyter-widgets/base",
            "_model_module_version": "1.2.0",
            "_model_name": "LayoutModel",
            "_view_count": null,
            "_view_module": "@jupyter-widgets/base",
            "_view_module_version": "1.2.0",
            "_view_name": "LayoutView",
            "align_content": null,
            "align_items": null,
            "align_self": null,
            "border": null,
            "bottom": null,
            "display": null,
            "flex": null,
            "flex_flow": null,
            "grid_area": null,
            "grid_auto_columns": null,
            "grid_auto_flow": null,
            "grid_auto_rows": null,
            "grid_column": null,
            "grid_gap": null,
            "grid_row": null,
            "grid_template_areas": null,
            "grid_template_columns": null,
            "grid_template_rows": null,
            "height": null,
            "justify_content": null,
            "justify_items": null,
            "left": null,
            "margin": null,
            "max_height": null,
            "max_width": null,
            "min_height": null,
            "min_width": null,
            "object_fit": null,
            "object_position": null,
            "order": null,
            "overflow": null,
            "overflow_x": null,
            "overflow_y": null,
            "padding": null,
            "right": null,
            "top": null,
            "visibility": null,
            "width": null
          }
        },
        "f942f7222fb64b5087b332893363005d": {
          "model_module": "@jupyter-widgets/controls",
          "model_name": "DescriptionStyleModel",
          "model_module_version": "1.5.0",
          "state": {
            "_model_module": "@jupyter-widgets/controls",
            "_model_module_version": "1.5.0",
            "_model_name": "DescriptionStyleModel",
            "_view_count": null,
            "_view_module": "@jupyter-widgets/base",
            "_view_module_version": "1.2.0",
            "_view_name": "StyleView",
            "description_width": ""
          }
        },
        "3a553d4a2d424e479fd1ecd7b9de111c": {
          "model_module": "@jupyter-widgets/controls",
          "model_name": "HBoxModel",
          "model_module_version": "1.5.0",
          "state": {
            "_dom_classes": [],
            "_model_module": "@jupyter-widgets/controls",
            "_model_module_version": "1.5.0",
            "_model_name": "HBoxModel",
            "_view_count": null,
            "_view_module": "@jupyter-widgets/controls",
            "_view_module_version": "1.5.0",
            "_view_name": "HBoxView",
            "box_style": "",
            "children": [
              "IPY_MODEL_df2b8f615b0442c399f4909c12077fea",
              "IPY_MODEL_1fa2cc11f94e4a7eb1b13063af972fec",
              "IPY_MODEL_9dfc5532234541e78bd65ec6f9712060"
            ],
            "layout": "IPY_MODEL_7afcd883af8049a29821ebeac64cdcd4"
          }
        },
        "df2b8f615b0442c399f4909c12077fea": {
          "model_module": "@jupyter-widgets/controls",
          "model_name": "HTMLModel",
          "model_module_version": "1.5.0",
          "state": {
            "_dom_classes": [],
            "_model_module": "@jupyter-widgets/controls",
            "_model_module_version": "1.5.0",
            "_model_name": "HTMLModel",
            "_view_count": null,
            "_view_module": "@jupyter-widgets/controls",
            "_view_module_version": "1.5.0",
            "_view_name": "HTMLView",
            "description": "",
            "description_tooltip": null,
            "layout": "IPY_MODEL_7b44c6c6d4534453a25f37cf803a37e6",
            "placeholder": "​",
            "style": "IPY_MODEL_7a57f8f0b7404a0099d846b3a45351ce",
            "value": "data/text/chinese_charlist.txt: 100%"
          }
        },
        "1fa2cc11f94e4a7eb1b13063af972fec": {
          "model_module": "@jupyter-widgets/controls",
          "model_name": "FloatProgressModel",
          "model_module_version": "1.5.0",
          "state": {
            "_dom_classes": [],
            "_model_module": "@jupyter-widgets/controls",
            "_model_module_version": "1.5.0",
            "_model_name": "FloatProgressModel",
            "_view_count": null,
            "_view_module": "@jupyter-widgets/controls",
            "_view_module_version": "1.5.0",
            "_view_name": "ProgressView",
            "bar_style": "success",
            "description": "",
            "description_tooltip": null,
            "layout": "IPY_MODEL_bac19b5f19c84d8ab6c3f6d02608dff4",
            "max": 16211,
            "min": 0,
            "orientation": "horizontal",
            "style": "IPY_MODEL_8753b96e4b6a4f05804d33ee0a93be17",
            "value": 16211
          }
        },
        "9dfc5532234541e78bd65ec6f9712060": {
          "model_module": "@jupyter-widgets/controls",
          "model_name": "HTMLModel",
          "model_module_version": "1.5.0",
          "state": {
            "_dom_classes": [],
            "_model_module": "@jupyter-widgets/controls",
            "_model_module_version": "1.5.0",
            "_model_name": "HTMLModel",
            "_view_count": null,
            "_view_module": "@jupyter-widgets/controls",
            "_view_module_version": "1.5.0",
            "_view_name": "HTMLView",
            "description": "",
            "description_tooltip": null,
            "layout": "IPY_MODEL_14b18fb635a1441fae6f87d4672f1f6c",
            "placeholder": "​",
            "style": "IPY_MODEL_1d0c46645a30481ba0623374ba26da64",
            "value": " 15.8k/15.8k [00:00&lt;00:00, 71.3kB/s]"
          }
        },
        "7afcd883af8049a29821ebeac64cdcd4": {
          "model_module": "@jupyter-widgets/base",
          "model_name": "LayoutModel",
          "model_module_version": "1.2.0",
          "state": {
            "_model_module": "@jupyter-widgets/base",
            "_model_module_version": "1.2.0",
            "_model_name": "LayoutModel",
            "_view_count": null,
            "_view_module": "@jupyter-widgets/base",
            "_view_module_version": "1.2.0",
            "_view_name": "LayoutView",
            "align_content": null,
            "align_items": null,
            "align_self": null,
            "border": null,
            "bottom": null,
            "display": null,
            "flex": null,
            "flex_flow": null,
            "grid_area": null,
            "grid_auto_columns": null,
            "grid_auto_flow": null,
            "grid_auto_rows": null,
            "grid_column": null,
            "grid_gap": null,
            "grid_row": null,
            "grid_template_areas": null,
            "grid_template_columns": null,
            "grid_template_rows": null,
            "height": null,
            "justify_content": null,
            "justify_items": null,
            "left": null,
            "margin": null,
            "max_height": null,
            "max_width": null,
            "min_height": null,
            "min_width": null,
            "object_fit": null,
            "object_position": null,
            "order": null,
            "overflow": null,
            "overflow_x": null,
            "overflow_y": null,
            "padding": null,
            "right": null,
            "top": null,
            "visibility": null,
            "width": null
          }
        },
        "7b44c6c6d4534453a25f37cf803a37e6": {
          "model_module": "@jupyter-widgets/base",
          "model_name": "LayoutModel",
          "model_module_version": "1.2.0",
          "state": {
            "_model_module": "@jupyter-widgets/base",
            "_model_module_version": "1.2.0",
            "_model_name": "LayoutModel",
            "_view_count": null,
            "_view_module": "@jupyter-widgets/base",
            "_view_module_version": "1.2.0",
            "_view_name": "LayoutView",
            "align_content": null,
            "align_items": null,
            "align_self": null,
            "border": null,
            "bottom": null,
            "display": null,
            "flex": null,
            "flex_flow": null,
            "grid_area": null,
            "grid_auto_columns": null,
            "grid_auto_flow": null,
            "grid_auto_rows": null,
            "grid_column": null,
            "grid_gap": null,
            "grid_row": null,
            "grid_template_areas": null,
            "grid_template_columns": null,
            "grid_template_rows": null,
            "height": null,
            "justify_content": null,
            "justify_items": null,
            "left": null,
            "margin": null,
            "max_height": null,
            "max_width": null,
            "min_height": null,
            "min_width": null,
            "object_fit": null,
            "object_position": null,
            "order": null,
            "overflow": null,
            "overflow_x": null,
            "overflow_y": null,
            "padding": null,
            "right": null,
            "top": null,
            "visibility": null,
            "width": null
          }
        },
        "7a57f8f0b7404a0099d846b3a45351ce": {
          "model_module": "@jupyter-widgets/controls",
          "model_name": "DescriptionStyleModel",
          "model_module_version": "1.5.0",
          "state": {
            "_model_module": "@jupyter-widgets/controls",
            "_model_module_version": "1.5.0",
            "_model_name": "DescriptionStyleModel",
            "_view_count": null,
            "_view_module": "@jupyter-widgets/base",
            "_view_module_version": "1.2.0",
            "_view_name": "StyleView",
            "description_width": ""
          }
        },
        "bac19b5f19c84d8ab6c3f6d02608dff4": {
          "model_module": "@jupyter-widgets/base",
          "model_name": "LayoutModel",
          "model_module_version": "1.2.0",
          "state": {
            "_model_module": "@jupyter-widgets/base",
            "_model_module_version": "1.2.0",
            "_model_name": "LayoutModel",
            "_view_count": null,
            "_view_module": "@jupyter-widgets/base",
            "_view_module_version": "1.2.0",
            "_view_name": "LayoutView",
            "align_content": null,
            "align_items": null,
            "align_self": null,
            "border": null,
            "bottom": null,
            "display": null,
            "flex": null,
            "flex_flow": null,
            "grid_area": null,
            "grid_auto_columns": null,
            "grid_auto_flow": null,
            "grid_auto_rows": null,
            "grid_column": null,
            "grid_gap": null,
            "grid_row": null,
            "grid_template_areas": null,
            "grid_template_columns": null,
            "grid_template_rows": null,
            "height": null,
            "justify_content": null,
            "justify_items": null,
            "left": null,
            "margin": null,
            "max_height": null,
            "max_width": null,
            "min_height": null,
            "min_width": null,
            "object_fit": null,
            "object_position": null,
            "order": null,
            "overflow": null,
            "overflow_x": null,
            "overflow_y": null,
            "padding": null,
            "right": null,
            "top": null,
            "visibility": null,
            "width": null
          }
        },
        "8753b96e4b6a4f05804d33ee0a93be17": {
          "model_module": "@jupyter-widgets/controls",
          "model_name": "ProgressStyleModel",
          "model_module_version": "1.5.0",
          "state": {
            "_model_module": "@jupyter-widgets/controls",
            "_model_module_version": "1.5.0",
            "_model_name": "ProgressStyleModel",
            "_view_count": null,
            "_view_module": "@jupyter-widgets/base",
            "_view_module_version": "1.2.0",
            "_view_name": "StyleView",
            "bar_color": null,
            "description_width": ""
          }
        },
        "14b18fb635a1441fae6f87d4672f1f6c": {
          "model_module": "@jupyter-widgets/base",
          "model_name": "LayoutModel",
          "model_module_version": "1.2.0",
          "state": {
            "_model_module": "@jupyter-widgets/base",
            "_model_module_version": "1.2.0",
            "_model_name": "LayoutModel",
            "_view_count": null,
            "_view_module": "@jupyter-widgets/base",
            "_view_module_version": "1.2.0",
            "_view_name": "LayoutView",
            "align_content": null,
            "align_items": null,
            "align_self": null,
            "border": null,
            "bottom": null,
            "display": null,
            "flex": null,
            "flex_flow": null,
            "grid_area": null,
            "grid_auto_columns": null,
            "grid_auto_flow": null,
            "grid_auto_rows": null,
            "grid_column": null,
            "grid_gap": null,
            "grid_row": null,
            "grid_template_areas": null,
            "grid_template_columns": null,
            "grid_template_rows": null,
            "height": null,
            "justify_content": null,
            "justify_items": null,
            "left": null,
            "margin": null,
            "max_height": null,
            "max_width": null,
            "min_height": null,
            "min_width": null,
            "object_fit": null,
            "object_position": null,
            "order": null,
            "overflow": null,
            "overflow_x": null,
            "overflow_y": null,
            "padding": null,
            "right": null,
            "top": null,
            "visibility": null,
            "width": null
          }
        },
        "1d0c46645a30481ba0623374ba26da64": {
          "model_module": "@jupyter-widgets/controls",
          "model_name": "DescriptionStyleModel",
          "model_module_version": "1.5.0",
          "state": {
            "_model_module": "@jupyter-widgets/controls",
            "_model_module_version": "1.5.0",
            "_model_name": "DescriptionStyleModel",
            "_view_count": null,
            "_view_module": "@jupyter-widgets/base",
            "_view_module_version": "1.2.0",
            "_view_name": "StyleView",
            "description_width": ""
          }
        }
      }
    }
  },
  "nbformat": 4,
  "nbformat_minor": 5
}